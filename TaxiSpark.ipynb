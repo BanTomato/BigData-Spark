{
 "cells": [
  {
   "cell_type": "code",
   "id": "initial_id",
   "metadata": {
    "collapsed": true,
    "ExecuteTime": {
     "end_time": "2024-12-21T12:16:53.208739Z",
     "start_time": "2024-12-21T12:16:53.205738Z"
    }
   },
   "source": "from pyspark.sql import SparkSession\n",
   "outputs": [],
   "execution_count": 71
  },
  {
   "metadata": {
    "ExecuteTime": {
     "end_time": "2024-12-21T12:16:54.638476Z",
     "start_time": "2024-12-21T12:16:54.547477Z"
    }
   },
   "cell_type": "code",
   "source": [
    "spark = SparkSession \\\n",
    "    .builder \\\n",
    "    .appName(\"Taxi Data App\") \\\n",
    "    .config(\"spark.some.config.option\", \"some-value\") \\\n",
    "    .getOrCreate()"
   ],
   "id": "77a23dbfb1d8894a",
   "outputs": [],
   "execution_count": 72
  },
  {
   "metadata": {
    "ExecuteTime": {
     "end_time": "2024-12-21T12:16:58.371336Z",
     "start_time": "2024-12-21T12:16:55.686199Z"
    }
   },
   "cell_type": "code",
   "source": [
    "# 读取 CSV.BZ2 文件\n",
    "df = spark.read.csv(\"./taxi-data-sorted-small.csv.bz2\", header=False, inferSchema=True)\n",
    "\n",
    "# 显示前几行\n",
    "df.show()\n",
    "\n",
    "# 打印数据的 schema\n",
    "df.printSchema()"
   ],
   "id": "f7e48308852b2e2e",
   "outputs": [
    {
     "name": "stdout",
     "output_type": "stream",
     "text": [
      "+--------------------+--------------------+-------------------+-------------------+---+----+----------+---------+----------+---------+----+----+----+----+----+----+----+\n",
      "|                 _c0|                 _c1|                _c2|                _c3|_c4| _c5|       _c6|      _c7|       _c8|      _c9|_c10|_c11|_c12|_c13|_c14|_c15|_c16|\n",
      "+--------------------+--------------------+-------------------+-------------------+---+----+----------+---------+----------+---------+----+----+----+----+----+----+----+\n",
      "|07290D3599E7A0D62...|E7750A37CAB07D0DF...|2013-01-01 00:00:00|2013-01-01 00:02:00|120|0.44|-73.956528|40.716976| -73.96244|40.715008| CSH| 3.5| 0.5| 0.5| 0.0| 0.0| 4.5|\n",
      "|22D70BF00EEB0ADC8...|3FF2709163DE7036F...|2013-01-01 00:02:00|2013-01-01 00:02:00|  0| 0.0|       0.0|      0.0|       0.0|      0.0| CSH|27.0| 0.0| 0.5| 0.0| 0.0|27.5|\n",
      "|0EC22AAF491A8BD91...|778C92B26AE78A9EB...|2013-01-01 00:01:00|2013-01-01 00:03:00|120|0.71|-73.973145|40.752827|-73.965897|40.760445| CSH| 4.0| 0.5| 0.5| 0.0| 0.0| 5.0|\n",
      "|1390FB380189DF6BB...|BE317B986700F63C4...|2013-01-01 00:01:00|2013-01-01 00:03:00|120|0.48|-74.004173|40.720947|-74.003838|40.726189| CSH| 4.0| 0.5| 0.5| 0.0| 0.0| 5.0|\n",
      "|3B4129883A1D05BE8...|7077F9FD5AD649AEA...|2013-01-01 00:01:00|2013-01-01 00:03:00|120|0.61|-73.987373|40.724861|-73.983772|40.730995| CRD| 4.0| 0.5| 0.5| 0.0| 0.0| 5.0|\n",
      "|5FAA7F69213D26A42...|00B7691D86D96AEBD...|2013-01-01 00:02:00|2013-01-01 00:03:00| 60| 0.0|       0.0|      0.0|       0.0|      0.0| CRD| 2.5| 0.5| 0.5|0.25| 0.0|3.75|\n",
      "|DFBFA82ECA8F7059B...|CF8604E72D83840FB...|2013-01-01 00:02:00|2013-01-01 00:03:00| 60|0.39|-73.981544|40.781475|-73.979439|40.784386| CRD| 3.0| 0.5| 0.5| 0.7| 0.0| 4.7|\n",
      "|1E5F4C1CAE7AB3D06...|E0B2F618053518F24...|2013-01-01 00:03:00|2013-01-01 00:04:00| 60| 0.0|-73.993973|40.751266|       0.0|      0.0| CSH| 2.5| 0.5| 0.5| 0.0| 0.0| 3.5|\n",
      "|468244D1361B8A3EB...|BB899DFEA9CC964B5...|2013-01-01 00:00:00|2013-01-01 00:04:00|240|1.71|-73.955383|40.779728|-73.967758|40.760326| CSH| 6.5| 0.5| 0.5| 0.0| 0.0| 7.5|\n",
      "|5F78CC6D4ECD0541B...|B7567F5BFD558C665...|2013-01-01 00:00:00|2013-01-01 00:04:00|240|1.21|   -73.973| 40.79314|-73.981453|40.778465| CRD| 6.0| 0.5| 0.5| 1.3| 0.0| 8.3|\n",
      "|6BA29E9A69B10F218...|ED368552102F12EA2...|2013-01-01 00:01:00|2013-01-01 00:04:00|180|0.74|-73.971138| 40.75898|-73.972206|40.752502| CRD| 4.5| 0.5| 0.5| 0.0| 0.0| 5.5|\n",
      "|75C90377AB710B047...|00B7691D86D96AEBD...|2013-01-01 00:03:00|2013-01-01 00:04:00| 60| 0.0|       0.0|      0.0|       0.0|      0.0| CRD| 3.0| 0.5| 0.5|0.07| 0.0|4.07|\n",
      "|C306CAC565429C128...|E255D5DFB9A967B9D...|2013-01-01 00:01:00|2013-01-01 00:04:00|180|0.84|-73.942841|40.797031| -73.93454|40.797314| CSH| 4.5| 0.5| 0.5| 0.0| 0.0| 5.5|\n",
      "|C4D6E189EF44EB83E...|95B5B3CDA9EDC88AA...|2013-01-01 00:03:00|2013-01-01 00:04:00| 60| 0.0|-73.989189|40.721924|       0.0|      0.0| CSH| 2.5| 0.5| 0.5| 0.0| 0.0| 3.5|\n",
      "|DD467ED2E7DDB5C8B...|1D7876BD692018A5B...|2013-01-01 00:01:00|2013-01-01 00:04:00|180|0.95|-73.976753|40.750706|-73.990089|40.750729| CSH| 5.0| 0.5| 0.5| 0.0| 0.0| 6.0|\n",
      "|F8A0B52B22BB58B3C...|00B7691D86D96AEBD...|2013-01-01 00:03:00|2013-01-01 00:04:00| 60| 0.0|-73.937637|40.758369|-73.937607| 40.75835| CRD| 2.5| 0.5| 0.5|0.25| 0.0|3.75|\n",
      "|120E700FE35B2DDBE...|3EDDD1433E2276DF9...|2013-01-01 00:03:00|2013-01-01 00:05:00|120|0.52|-73.981972|40.752525|-73.985313|40.747738| CSH| 4.0| 0.5| 0.5| 0.0| 0.0| 5.0|\n",
      "|256C6A3CA47F81497...|8FA961982C3FEF438...|2013-01-01 00:00:00|2013-01-01 00:05:00|300|0.13|-73.969841|40.797359|-73.961899|40.812466| CSH| 6.5| 0.5| 0.5| 0.0| 0.0| 7.5|\n",
      "|655E773C92FA44635...|B6EAE07E2AD023B38...|2013-01-01 00:02:00|2013-01-01 00:05:00|180|1.55|-74.003197|40.733032|-74.012985|40.717377| CRD| 6.0| 0.5| 0.5|1.62| 0.0|8.62|\n",
      "|76942C3205E17D7E7...|25BA06A87905667AA...|2013-01-01 00:00:00|2013-01-01 00:05:00|300|0.61|-73.955925|40.781887|-73.963181|40.777832| CSH| 5.0| 0.5| 0.5| 0.0| 0.0| 6.0|\n",
      "+--------------------+--------------------+-------------------+-------------------+---+----+----------+---------+----------+---------+----+----+----+----+----+----+----+\n",
      "only showing top 20 rows\n",
      "\n",
      "root\n",
      " |-- _c0: string (nullable = true)\n",
      " |-- _c1: string (nullable = true)\n",
      " |-- _c2: timestamp (nullable = true)\n",
      " |-- _c3: timestamp (nullable = true)\n",
      " |-- _c4: integer (nullable = true)\n",
      " |-- _c5: double (nullable = true)\n",
      " |-- _c6: double (nullable = true)\n",
      " |-- _c7: double (nullable = true)\n",
      " |-- _c8: double (nullable = true)\n",
      " |-- _c9: double (nullable = true)\n",
      " |-- _c10: string (nullable = true)\n",
      " |-- _c11: double (nullable = true)\n",
      " |-- _c12: double (nullable = true)\n",
      " |-- _c13: double (nullable = true)\n",
      " |-- _c14: double (nullable = true)\n",
      " |-- _c15: double (nullable = true)\n",
      " |-- _c16: double (nullable = true)\n",
      "\n"
     ]
    }
   ],
   "execution_count": 73
  },
  {
   "metadata": {
    "ExecuteTime": {
     "end_time": "2024-12-21T12:17:00.621403Z",
     "start_time": "2024-12-21T12:17:00.619230Z"
    }
   },
   "cell_type": "code",
   "source": "from pyspark.sql.functions import col",
   "id": "aa7e8bc6dc52ab50",
   "outputs": [],
   "execution_count": 74
  },
  {
   "metadata": {
    "ExecuteTime": {
     "end_time": "2024-12-21T12:17:02.052421Z",
     "start_time": "2024-12-21T12:17:01.976908Z"
    }
   },
   "cell_type": "code",
   "source": [
    "\n",
    "filtered_df = df.filter(\n",
    "    (col(\"_c5\").cast(\"float\").isNotNull()) & # 第 6 列可以转换为 float\n",
    "    (col(\"_c11\").cast(\"float\").isNotNull()) &  # 第 12 列可以转换为 float\n",
    "    (col(\"_c5\") != 0) & # 第 6 和 12 列不为 0\n",
    "    (col(\"_c11\") != 0)\n",
    ")\n",
    "\n",
    "if len(df.columns) != 17:\n",
    "    raise ValueError(\"The number of columns is not 17!\")\n",
    "# 显示过滤后的结果\n",
    "filtered_df.show()"
   ],
   "id": "61dd1b2a424cf172",
   "outputs": [
    {
     "name": "stdout",
     "output_type": "stream",
     "text": [
      "+--------------------+--------------------+-------------------+-------------------+---+----+----------+---------+----------+---------+----+----+----+----+----+----+----+\n",
      "|                 _c0|                 _c1|                _c2|                _c3|_c4| _c5|       _c6|      _c7|       _c8|      _c9|_c10|_c11|_c12|_c13|_c14|_c15|_c16|\n",
      "+--------------------+--------------------+-------------------+-------------------+---+----+----------+---------+----------+---------+----+----+----+----+----+----+----+\n",
      "|07290D3599E7A0D62...|E7750A37CAB07D0DF...|2013-01-01 00:00:00|2013-01-01 00:02:00|120|0.44|-73.956528|40.716976| -73.96244|40.715008| CSH| 3.5| 0.5| 0.5| 0.0| 0.0| 4.5|\n",
      "|0EC22AAF491A8BD91...|778C92B26AE78A9EB...|2013-01-01 00:01:00|2013-01-01 00:03:00|120|0.71|-73.973145|40.752827|-73.965897|40.760445| CSH| 4.0| 0.5| 0.5| 0.0| 0.0| 5.0|\n",
      "|1390FB380189DF6BB...|BE317B986700F63C4...|2013-01-01 00:01:00|2013-01-01 00:03:00|120|0.48|-74.004173|40.720947|-74.003838|40.726189| CSH| 4.0| 0.5| 0.5| 0.0| 0.0| 5.0|\n",
      "|3B4129883A1D05BE8...|7077F9FD5AD649AEA...|2013-01-01 00:01:00|2013-01-01 00:03:00|120|0.61|-73.987373|40.724861|-73.983772|40.730995| CRD| 4.0| 0.5| 0.5| 0.0| 0.0| 5.0|\n",
      "|DFBFA82ECA8F7059B...|CF8604E72D83840FB...|2013-01-01 00:02:00|2013-01-01 00:03:00| 60|0.39|-73.981544|40.781475|-73.979439|40.784386| CRD| 3.0| 0.5| 0.5| 0.7| 0.0| 4.7|\n",
      "|468244D1361B8A3EB...|BB899DFEA9CC964B5...|2013-01-01 00:00:00|2013-01-01 00:04:00|240|1.71|-73.955383|40.779728|-73.967758|40.760326| CSH| 6.5| 0.5| 0.5| 0.0| 0.0| 7.5|\n",
      "|5F78CC6D4ECD0541B...|B7567F5BFD558C665...|2013-01-01 00:00:00|2013-01-01 00:04:00|240|1.21|   -73.973| 40.79314|-73.981453|40.778465| CRD| 6.0| 0.5| 0.5| 1.3| 0.0| 8.3|\n",
      "|6BA29E9A69B10F218...|ED368552102F12EA2...|2013-01-01 00:01:00|2013-01-01 00:04:00|180|0.74|-73.971138| 40.75898|-73.972206|40.752502| CRD| 4.5| 0.5| 0.5| 0.0| 0.0| 5.5|\n",
      "|C306CAC565429C128...|E255D5DFB9A967B9D...|2013-01-01 00:01:00|2013-01-01 00:04:00|180|0.84|-73.942841|40.797031| -73.93454|40.797314| CSH| 4.5| 0.5| 0.5| 0.0| 0.0| 5.5|\n",
      "|DD467ED2E7DDB5C8B...|1D7876BD692018A5B...|2013-01-01 00:01:00|2013-01-01 00:04:00|180|0.95|-73.976753|40.750706|-73.990089|40.750729| CSH| 5.0| 0.5| 0.5| 0.0| 0.0| 6.0|\n",
      "|120E700FE35B2DDBE...|3EDDD1433E2276DF9...|2013-01-01 00:03:00|2013-01-01 00:05:00|120|0.52|-73.981972|40.752525|-73.985313|40.747738| CSH| 4.0| 0.5| 0.5| 0.0| 0.0| 5.0|\n",
      "|256C6A3CA47F81497...|8FA961982C3FEF438...|2013-01-01 00:00:00|2013-01-01 00:05:00|300|0.13|-73.969841|40.797359|-73.961899|40.812466| CSH| 6.5| 0.5| 0.5| 0.0| 0.0| 7.5|\n",
      "|655E773C92FA44635...|B6EAE07E2AD023B38...|2013-01-01 00:02:00|2013-01-01 00:05:00|180|1.55|-74.003197|40.733032|-74.012985|40.717377| CRD| 6.0| 0.5| 0.5|1.62| 0.0|8.62|\n",
      "|76942C3205E17D7E7...|25BA06A87905667AA...|2013-01-01 00:00:00|2013-01-01 00:05:00|300|0.61|-73.955925|40.781887|-73.963181|40.777832| CSH| 5.0| 0.5| 0.5| 0.0| 0.0| 6.0|\n",
      "|8B5F45807D8EC24DD...|577D1B6729EF9014C...|2013-01-01 00:00:00|2013-01-01 00:05:00|300|0.06|-73.984871|40.753723|-73.983849|40.754467| CSH| 4.5| 0.5| 0.5| 0.0| 0.0| 5.5|\n",
      "|D79D2C8C83066AF71...|A2AB59B1DBAB1A015...|2013-01-01 00:01:00|2013-01-01 00:05:00|240|0.59|-74.004517|40.721241|-73.997459|40.719055| CRD| 5.0| 0.5| 0.5| 1.1| 0.0| 7.1|\n",
      "|F45098D1F50A0E94E...|CA79A5EDAD78E6E50...|2013-01-01 00:04:00|2013-01-01 00:05:00| 60|0.52|-73.987389|40.770588|-73.984077|40.775196| CSH| 3.5| 0.5| 0.5| 0.0| 0.0| 4.5|\n",
      "|7CC2C787A937EE1F8...|0758FB6257076E88C...|2013-01-01 00:00:00|2013-01-01 00:06:00|360|0.98|-73.978325|40.778091|-73.981834|40.768639| CSH| 6.0| 0.5| 0.5| 0.0| 0.0| 7.0|\n",
      "|A1436A9F8F71EADB5...|1D8906DAF98896F75...|2013-01-01 00:02:00|2013-01-01 00:06:00|240|0.53|-73.981934|40.769608|-73.977295|40.774387| CSH| 4.5| 0.5| 0.5| 0.0| 0.0| 5.5|\n",
      "|AFD2466E58F11165B...|CAD4B59BED1B935BA...|2013-01-01 00:04:00|2013-01-01 00:06:00|120|0.98|-73.954994|40.769287|-73.947144|40.779976| CSH| 4.5| 0.5| 0.5| 0.0| 0.0| 5.5|\n",
      "+--------------------+--------------------+-------------------+-------------------+---+----+----------+---------+----------+---------+----+----+----+----+----+----+----+\n",
      "only showing top 20 rows\n",
      "\n"
     ]
    }
   ],
   "execution_count": 75
  },
  {
   "metadata": {
    "ExecuteTime": {
     "end_time": "2024-12-21T12:17:04.973581Z",
     "start_time": "2024-12-21T12:17:04.964750Z"
    }
   },
   "cell_type": "code",
   "source": [
    "taxi = filtered_df.withColumnRenamed(\"_c0\", \"medallion\") \\\n",
    "           .withColumnRenamed(\"_c1\", \"hack_license\")\\\n",
    "            .withColumnRenamed(\"_c2\", \"pickup datetime\")\n",
    "\n"
   ],
   "id": "a2f3b98e2da03eed",
   "outputs": [],
   "execution_count": 76
  },
  {
   "metadata": {
    "ExecuteTime": {
     "end_time": "2024-12-21T12:17:06.511066Z",
     "start_time": "2024-12-21T12:17:06.506838Z"
    }
   },
   "cell_type": "code",
   "source": "print(taxi.columns)",
   "id": "64cb3b957760805c",
   "outputs": [
    {
     "name": "stdout",
     "output_type": "stream",
     "text": [
      "['medallion', 'hack_license', 'pickup datetime', '_c3', '_c4', '_c5', '_c6', '_c7', '_c8', '_c9', '_c10', '_c11', '_c12', '_c13', '_c14', '_c15', '_c16']\n"
     ]
    }
   ],
   "execution_count": 77
  },
  {
   "metadata": {},
   "cell_type": "markdown",
   "source": "The top ten taxis that have had the largest number of drivers",
   "id": "5bd9484a9a9ce4b5"
  },
  {
   "metadata": {
    "ExecuteTime": {
     "end_time": "2024-12-21T12:17:11.841156Z",
     "start_time": "2024-12-21T12:17:07.671605Z"
    }
   },
   "cell_type": "code",
   "source": [
    "from pyspark.sql import functions as f\n",
    "medallion_driver_sum = taxi.groupBy(\"medallion\").agg(f.countDistinct(\"hack_license\").alias(\"DriverNum\"))\n",
    "result = medallion_driver_sum.orderBy(\"DriverNum\",ascending = False).limit(10).show()"
   ],
   "id": "9ca9f6bd895a93f1",
   "outputs": [
    {
     "name": "stdout",
     "output_type": "stream",
     "text": [
      "+--------------------+---------+\n",
      "|           medallion|DriverNum|\n",
      "+--------------------+---------+\n",
      "|3C08296D0EB7ABE24...|       20|\n",
      "|65EFB7D02BAD12D5D...|       20|\n",
      "|55D311AD2752BC278...|       19|\n",
      "|F36564AB9C6EA3B63...|       19|\n",
      "|7DEB25123AE57111F...|       19|\n",
      "|CD7B02776E6948339...|       19|\n",
      "|3B6AE3CF05F34ADC9...|       19|\n",
      "|9FB7A7C1D7B960D8B...|       18|\n",
      "|F2A08960199BCDB7E...|       18|\n",
      "|799153A138F4E8334...|       18|\n",
      "+--------------------+---------+\n",
      "\n"
     ]
    }
   ],
   "execution_count": 78
  },
  {
   "metadata": {},
   "cell_type": "markdown",
   "source": [
    "Who the top 10 best drivers are in terms of their average earned money per\n",
    "minute spent carrying a customer.\n",
    "\n",
    "The total amount field is the total money earned on a trip. In the end, we\n",
    "are interested in computing a set of (driver, money per minute) pairs."
   ],
   "id": "424b8910426b44b"
  },
  {
   "metadata": {
    "ExecuteTime": {
     "end_time": "2024-12-21T12:17:13.965903Z",
     "start_time": "2024-12-21T12:17:13.963038Z"
    }
   },
   "cell_type": "code",
   "source": "from pyspark.sql.types import StringType,DoubleType",
   "id": "e70d51810c356cde",
   "outputs": [],
   "execution_count": 79
  },
  {
   "metadata": {
    "ExecuteTime": {
     "end_time": "2024-12-21T12:17:14.886095Z",
     "start_time": "2024-12-21T12:17:14.882256Z"
    }
   },
   "cell_type": "code",
   "source": "taxi.printSchema()",
   "id": "d39c0b416e6e1498",
   "outputs": [
    {
     "name": "stdout",
     "output_type": "stream",
     "text": [
      "root\n",
      " |-- medallion: string (nullable = true)\n",
      " |-- hack_license: string (nullable = true)\n",
      " |-- pickup datetime: timestamp (nullable = true)\n",
      " |-- _c3: timestamp (nullable = true)\n",
      " |-- _c4: integer (nullable = true)\n",
      " |-- _c5: double (nullable = true)\n",
      " |-- _c6: double (nullable = true)\n",
      " |-- _c7: double (nullable = true)\n",
      " |-- _c8: double (nullable = true)\n",
      " |-- _c9: double (nullable = true)\n",
      " |-- _c10: string (nullable = true)\n",
      " |-- _c11: double (nullable = true)\n",
      " |-- _c12: double (nullable = true)\n",
      " |-- _c13: double (nullable = true)\n",
      " |-- _c14: double (nullable = true)\n",
      " |-- _c15: double (nullable = true)\n",
      " |-- _c16: double (nullable = true)\n",
      "\n"
     ]
    }
   ],
   "execution_count": 80
  },
  {
   "metadata": {
    "ExecuteTime": {
     "end_time": "2024-12-21T12:17:16.700269Z",
     "start_time": "2024-12-21T12:17:16.683760Z"
    }
   },
   "cell_type": "code",
   "source": [
    "# 确保列 _c5 和 _c16 是 DoubleType\n",
    "taxi = taxi.withColumn(\"_c5\", f.col(\"_c5\").cast(DoubleType())) \\\n",
    "           .withColumn(\"_c16\", f.col(\"_c16\").cast(DoubleType()))"
   ],
   "id": "86a4b18abf9fe099",
   "outputs": [],
   "execution_count": 81
  },
  {
   "metadata": {
    "ExecuteTime": {
     "end_time": "2024-12-21T12:29:27.345434Z",
     "start_time": "2024-12-21T12:29:27.338929Z"
    }
   },
   "cell_type": "code",
   "source": [
    "# 避免除以零，先过滤掉 _c5 为零的行\n",
    "taxi_filtered = taxi.filter(f.col(\"_c5\") > 0)"
   ],
   "id": "6b3c2a27a290d36c",
   "outputs": [],
   "execution_count": 100
  },
  {
   "metadata": {
    "ExecuteTime": {
     "end_time": "2024-12-21T12:29:31.763904Z",
     "start_time": "2024-12-21T12:29:31.755914Z"
    }
   },
   "cell_type": "code",
   "source": "taxi_new = taxi.withColumn('money_per_minute', (taxi['_c16'] / taxi['_c5'] / 60) )\n",
   "id": "431118c069f073fa",
   "outputs": [],
   "execution_count": 101
  },
  {
   "metadata": {
    "ExecuteTime": {
     "end_time": "2024-12-21T12:16:15.921977Z",
     "start_time": "2024-12-21T12:16:15.919506Z"
    }
   },
   "cell_type": "code",
   "source": [
    "# result = taxi_new.groupby(\"hack_license\").mean(\"money_per_minute\").orderBy(\"avg(money_per_minute)\",ascending = False).limit(10)\n",
    "# result = result.withColumnRenamed(\"avg(money_per_minute)\",\"money_per_minute\").show()"
   ],
   "id": "e33035d961d3dfcf",
   "outputs": [],
   "execution_count": 66
  },
  {
   "metadata": {
    "ExecuteTime": {
     "end_time": "2024-12-21T12:17:20.666013Z",
     "start_time": "2024-12-21T12:17:20.646524Z"
    }
   },
   "cell_type": "code",
   "source": [
    "\n",
    "result = (\n",
    "    taxi_filtered.groupBy(\"hack_license\")\n",
    "    .agg(\n",
    "        f.sum(\"_c16\").alias(\"total_money\"),     # 计算总收入\n",
    "        f.sum(\"_c5\").alias(\"total_time\")        # 计算总时间（以秒为单位）\n",
    "    )\n",
    "    .withColumn(\n",
    "        \"money_per_minute\",\n",
    "        f.col(\"total_money\") / (f.col(\"total_time\") / 60)  # 计算每分钟平均收入\n",
    "    )\n",
    "    .orderBy(f.col(\"money_per_minute\").desc())  # 按每分钟收入降序排序\n",
    "    .limit(10)                                  # 取前 10 名\n",
    ")"
   ],
   "id": "cfbff32a07158cd8",
   "outputs": [],
   "execution_count": 84
  },
  {
   "metadata": {
    "ExecuteTime": {
     "end_time": "2024-12-21T12:16:19.127924Z",
     "start_time": "2024-12-21T12:16:15.955313Z"
    }
   },
   "cell_type": "code",
   "source": "result.show()",
   "id": "eb8f423198999ce9",
   "outputs": [
    {
     "name": "stdout",
     "output_type": "stream",
     "text": [
      "+--------------------+-----------+----------+-----------------+\n",
      "|        hack_license|total_money|total_time| money_per_minute|\n",
      "+--------------------+-----------+----------+-----------------+\n",
      "|5FC9AEBF0871275E8...|       18.5|      0.01|         111000.0|\n",
      "|559EDA2B1D3A352F1...|      240.6|       0.3|          48120.0|\n",
      "|32187D24B8C6D9DC9...|      68.76|       0.1|          41256.0|\n",
      "|6789302E98F439768...|        3.5|      0.01|          21000.0|\n",
      "|CD9D0B4429613F1B6...|      99.81|       0.5|          11977.2|\n",
      "|EE643DC164319505E...|       26.0|       0.2|7799.999999999999|\n",
      "|7BD4876222813A92A...|        3.0|      0.03|           6000.0|\n",
      "|90E3B38745F6A542B...|        3.0|      0.03|           6000.0|\n",
      "|011AE79C7E6093780...|       53.5|       0.6|           5350.0|\n",
      "|52C99F4F8CD2560F8...|       62.5|       0.9|4166.666666666666|\n",
      "+--------------------+-----------+----------+-----------------+\n",
      "\n"
     ]
    }
   ],
   "execution_count": 68
  },
  {
   "metadata": {
    "ExecuteTime": {
     "end_time": "2024-12-21T12:16:19.266108Z",
     "start_time": "2024-12-21T12:16:19.136383Z"
    }
   },
   "cell_type": "code",
   "source": "# spark.stop()",
   "id": "f4c82e86e44ddb7e",
   "outputs": [],
   "execution_count": 69
  },
  {
   "metadata": {},
   "cell_type": "markdown",
   "source": [
    "有两种口径。\n",
    "1. 单次行程平均值\n",
    "- 想了解司机在单次行程中的赚钱效率，不关注行程长短。\n",
    "- 数据集中的行程时间差异较小，短行程不会对结果造成显著偏差。\n",
    "2. 整体平均值\n",
    "- 想衡量司机的整体赚钱效率。\n",
    "- 数据集中行程时间差异较大，需要考虑时间权重对结果的影响。"
   ],
   "id": "949f3805fa124675"
  },
  {
   "metadata": {},
   "cell_type": "markdown",
   "source": [
    "We would like to know which hour of the day is the best time for drivers that has the highest profit per mile.\n",
    "\n",
    "Consider the surcharge amount in dollar for each taxi ride (without tip amount) and the distance in miles,\n",
    "and sum up the rides for each hour of the day (24 hours) – consider the pickup time for your calculation.\n",
    "\n",
    "The profit ratio is the ration surcharge in dollars divided by the travel distance in miles for each specific time\n",
    "of the day.\n",
    "\n",
    "Profit Ratio = (Surcharge Amount in US Dollar) / (Travel Distance in miles)\n",
    "\n",
    "We are interested to know the time of the day that has the highest profit ratio."
   ],
   "id": "4e8441dafaaa344d"
  },
  {
   "metadata": {
    "ExecuteTime": {
     "end_time": "2024-12-21T12:28:27.860946Z",
     "start_time": "2024-12-21T12:28:27.857627Z"
    }
   },
   "cell_type": "code",
   "source": "taxi_filtered.printSchema()",
   "id": "dc78ed880439046a",
   "outputs": [
    {
     "name": "stdout",
     "output_type": "stream",
     "text": [
      "root\n",
      " |-- medallion: string (nullable = true)\n",
      " |-- hack_license: string (nullable = true)\n",
      " |-- pickup datetime: timestamp (nullable = true)\n",
      " |-- _c3: timestamp (nullable = true)\n",
      " |-- _c4: integer (nullable = true)\n",
      " |-- _c5: double (nullable = true)\n",
      " |-- _c6: double (nullable = true)\n",
      " |-- _c7: double (nullable = true)\n",
      " |-- _c8: double (nullable = true)\n",
      " |-- _c9: double (nullable = true)\n",
      " |-- _c10: string (nullable = true)\n",
      " |-- _c11: double (nullable = true)\n",
      " |-- _c12: double (nullable = true)\n",
      " |-- _c13: double (nullable = true)\n",
      " |-- _c14: double (nullable = true)\n",
      " |-- _c15: double (nullable = true)\n",
      " |-- _c16: double (nullable = true)\n",
      "\n"
     ]
    }
   ],
   "execution_count": 96
  },
  {
   "metadata": {
    "ExecuteTime": {
     "end_time": "2024-12-21T12:29:39.004905Z",
     "start_time": "2024-12-21T12:29:36.806601Z"
    }
   },
   "cell_type": "code",
   "source": [
    "from pyspark.sql.functions import col, hour\n",
    "taxi_filtered.withColumn(\"pickup hour\", hour(col(\"pickup datetime\")))\\\n",
    "    .withColumn(\"profit ratio\", f.col(\"_c15\") / f.col(\"_c4\"))\\\n",
    "    .groupBy(\"pickup hour\")\\\n",
    "    .agg(f.mean(\"profit ratio\").alias(\"avg profit ratio\"))\\\n",
    "    .orderBy(\"avg profit ratio\", ascending=False)\\\n",
    "    .show()"
   ],
   "id": "a52adc4cb8473a2c",
   "outputs": [
    {
     "name": "stdout",
     "output_type": "stream",
     "text": [
      "+-----------+--------------------+\n",
      "|pickup hour|    avg profit ratio|\n",
      "+-----------+--------------------+\n",
      "|          5|4.795428164858122...|\n",
      "|          4|2.903061317980278...|\n",
      "|          6|2.794922816611673E-4|\n",
      "|         14|2.111450421139239...|\n",
      "|         15|2.084174989212556E-4|\n",
      "|         16|2.026969124673807E-4|\n",
      "|         13|1.970843982333202...|\n",
      "|         10|1.727910557850571E-4|\n",
      "|         11|1.727903025158066...|\n",
      "|          7|1.702610234007025...|\n",
      "|         12|1.699506381213275E-4|\n",
      "|         23|1.637022002363445E-4|\n",
      "|         22|1.598107100871362...|\n",
      "|         17|1.576998398104434...|\n",
      "|          9|1.503583860894163...|\n",
      "|         21|1.493756205712496E-4|\n",
      "|         20|1.369666333453539...|\n",
      "|          8|1.286189144887038E-4|\n",
      "|          0|1.258692585771544...|\n",
      "|         18|1.205037174676841...|\n",
      "+-----------+--------------------+\n",
      "only showing top 20 rows\n",
      "\n"
     ]
    }
   ],
   "execution_count": 102
  },
  {
   "metadata": {},
   "cell_type": "markdown",
   "source": [
    "How many percent of taxi customers pay with cash and how many percent using electronic cards?\n",
    "Analyze these payment methods for different time of the day and provide a list of percents for each\n",
    "day time? As a result provide two numbers for total percentages and a list like (hour of day, percent\n",
    "paid card)\n",
    "- We would like to measure the efficiency of taxis drivers by finding out their average earned money per\n",
    "mile. (Consider the total amount which includes tips, as their earned money) Implement a Spark job\n",
    "that can find out the top-10 efficient taxi divers.\n",
    "- What are mean, median, first and third quantiles of tip amount? How do find the median?\n",
    "- Using the IQR outlier detection method find out the top-10 outliers."
   ],
   "id": "8b6c33a37d5623da"
  },
  {
   "metadata": {
    "ExecuteTime": {
     "end_time": "2024-12-21T13:50:50.522386Z",
     "start_time": "2024-12-21T13:50:48.065095Z"
    }
   },
   "cell_type": "code",
   "source": [
    "taxi_filtered = taxi_filtered.withColumn(\"pickup_hour\", f.hour(f.col(\"pickup datetime\")))\n",
    "# 统计每小时现金和卡支付的数量\n",
    "payment_count = taxi_filtered.groupBy(\"pickup_hour\", \"_c10\").count() # _c10 payment type\n",
    "\n",
    "# 计算每小时的支付百分比\n",
    "# 每小时所有的支付数量\n",
    "total_count_per_hour = payment_count.groupBy(\"pickup_hour\").agg(f.sum(\"count\").alias(\"total_rides\"))\n",
    "\n",
    "# 百分比：每小时现金和卡支付的数量/每小时所有的支付数量\n",
    "# 都是group by pickup hour，两个表join用于计算百分比.此处的count列来自与payment_count计算，见下schema\n",
    "payment_percentage = payment_count.join(total_count_per_hour, \"pickup_hour\") \\\n",
    "     .withColumn(\"percent\", (f.col(\"count\") / f.col(\"total_rides\")) * 100) \\\n",
    "     .select(\"pickup_hour\", \"_c10\", \"percent\")\\\n",
    "    .orderBy(f.col(\"pickup_hour\"), f.col(\"percent\"), ascending=[True, False]).show()"
   ],
   "id": "23883357c3b3974",
   "outputs": [
    {
     "name": "stdout",
     "output_type": "stream",
     "text": [
      "+-----------+----+--------------------+\n",
      "|pickup_hour|_c10|             percent|\n",
      "+-----------+----+--------------------+\n",
      "|          0| CSH|   50.33522434244456|\n",
      "|          0| CRD|   49.63595546521858|\n",
      "|          0| UNK| 0.02882019233686254|\n",
      "|          1| CSH|   51.61522655538373|\n",
      "|          1| CRD|   48.34028851653356|\n",
      "|          1| UNK|  0.0444849280826996|\n",
      "|          2| CSH|   52.43464352203896|\n",
      "|          2| CRD|  47.547001599496554|\n",
      "|          2| UNK| 0.01835487846448331|\n",
      "|          3| CSH|   53.52174352410146|\n",
      "|          3| CRD|   46.44457169804965|\n",
      "|          3| UNK| 0.03368477784889009|\n",
      "|          4| CSH|  57.435653002859866|\n",
      "|          4| CRD|   42.55134760377849|\n",
      "|          4| UNK|0.012999393361643121|\n",
      "|          5| CSH|   52.41218481270952|\n",
      "|          5| CRD|    47.5295146480105|\n",
      "|          5| UNK|0.058300539279988337|\n",
      "|          6| CRD|   51.16050538137576|\n",
      "|          6| CSH|   48.78334113242864|\n",
      "+-----------+----+--------------------+\n",
      "only showing top 20 rows\n",
      "\n"
     ]
    }
   ],
   "execution_count": 129
  },
  {
   "metadata": {
    "ExecuteTime": {
     "end_time": "2024-12-21T13:46:36.945215Z",
     "start_time": "2024-12-21T13:46:36.941215Z"
    }
   },
   "cell_type": "code",
   "source": "payment_count.printSchema()",
   "id": "1667952292bf58d6",
   "outputs": [
    {
     "name": "stdout",
     "output_type": "stream",
     "text": [
      "root\n",
      " |-- pickup_hour: integer (nullable = true)\n",
      " |-- _c10: string (nullable = true)\n",
      " |-- count: long (nullable = false)\n",
      "\n"
     ]
    }
   ],
   "execution_count": 125
  },
  {
   "metadata": {},
   "cell_type": "markdown",
   "source": [
    "1. orderBy() 中的列名\n",
    "在 PySpark 中，orderBy() 可以接受 列名字符串 作为参数，尤其在你对 DataFrame 中的原始列进行排序时，直接使用列名字符串是有效的。也就是说，在 orderBy() 中，如果你要根据原始的列名进行排序，PySpark 会自动将这些字符串列名转换为列对象。\n",
    "\n",
    "`payment_percentage.orderBy(\"pickup_hour\", \"_c10\", \"percent\").show()`\n",
    "\n",
    "2. 什么时候需要 f.col()？\n",
    "f.col() 是一个显式的列引用方法，通常用于以下几种情况：\n",
    "\n",
    "处理计算生成的列（如 withColumn() 中生成的列）：当你在 DataFrame 中动态创建或计算新列时，可能会使用 f.col() 来显式引用这些列。\n",
    "\n",
    "使用表达式：比如需要进行更复杂的操作时，或者引用不直接存在于原始 DataFrame 中的列时，f.col() 会显得非常有用。\n",
    "\n",
    "例如，你可能会在 withColumn() 中生成一个新的列，如：\n",
    "\n",
    "`payment_percentage.withColumn(\"new_col\", f.col(\"pickup_hour\") * 2)`\n",
    "\n",
    "3. 为什么直接使用列名有效？\n",
    "\n",
    "在 groupBy() 和 agg() 等操作后，PySpark 会将你定义的聚合列（例如通过 alias() 创建的列）视作新的 DataFrame 列，这些列名可以直接在 orderBy() 中作为字符串使用。\n",
    "\n",
    "```python\n",
    "taxi_filtered.withColumn(\"pickup hour\", hour(col(\"pickup datetime\")))\\\n",
    "    .withColumn(\"profit ratio\", f.col(\"_c15\") / f.col(\"_c4\"))\\\n",
    "    .groupBy(\"pickup hour\")\\\n",
    "    .agg(f.mean(\"profit ratio\").alias(\"avg profit ratio\"))\\\n",
    "    .orderBy(\"avg profit ratio\", ascending=False)\\\n",
    "    .show()\n",
    "```\n",
    "在这段代码中，avg profit ratio 是通过 alias() 创建的新的列名，它直接作为排序依据使用。\n",
    "\n",
    "这是因为 agg() 操作后，avg profit ratio 作为新的列名已经在 DataFrame 中存在，因此你可以直接使用它作为列名来排序。\n",
    "\n",
    "总结：\n",
    "\n",
    "直接使用列名字符串（如 orderBy(\"pickup_hour\")）在原始列或聚合操作后创建的列中是有效的，因为 PySpark 会自动处理列名转换。\n",
    "\n",
    "f.col() 更常用于动态计算的列（如在 withColumn() 中生成的列），或者当你需要在表达式中引用复杂的列时。\n"
   ],
   "id": "3f0b865427626af3"
  },
  {
   "metadata": {
    "ExecuteTime": {
     "end_time": "2024-12-21T14:08:55.621198Z",
     "start_time": "2024-12-21T14:08:55.272691Z"
    }
   },
   "cell_type": "code",
   "source": [
    "# http://localhost:4042/jobs/\n",
    "# taxi_filtered = taxi_filtered.cache()  # 缓存 同一个 DataFrame 或 RDD 会被多次重复使用时\n",
    "spark.stop()"
   ],
   "id": "1ef37af3709d0358",
   "outputs": [],
   "execution_count": 130
  }
 ],
 "metadata": {
  "kernelspec": {
   "display_name": "Python 3",
   "language": "python",
   "name": "python3"
  },
  "language_info": {
   "codemirror_mode": {
    "name": "ipython",
    "version": 2
   },
   "file_extension": ".py",
   "mimetype": "text/x-python",
   "name": "python",
   "nbconvert_exporter": "python",
   "pygments_lexer": "ipython2",
   "version": "2.7.6"
  }
 },
 "nbformat": 4,
 "nbformat_minor": 5
}
